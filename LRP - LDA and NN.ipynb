{
 "cells": [
  {
   "cell_type": "code",
   "execution_count": 1,
   "metadata": {},
   "outputs": [
    {
     "name": "stderr",
     "output_type": "stream",
     "text": [
      "/Users/q3/opt/anaconda3/envs/lrp/lib/python3.6/site-packages/ipykernel_launcher.py:23: TqdmExperimentalWarning: Using `tqdm.autonotebook.tqdm` in notebook mode. Use `tqdm.tqdm` instead to force console mode (e.g. in jupyter console)\n"
     ]
    }
   ],
   "source": [
    "import os\n",
    "import random\n",
    "import numpy as np\n",
    "import pandas as pd\n",
    "import xarray as xr\n",
    "from sklearn.decomposition import PCA\n",
    "import matplotlib.pyplot as plt\n",
    "import seaborn as sns\n",
    "sns.set_style('ticks')\n",
    "from sklearn.preprocessing import StandardScaler\n",
    "from sklearn.discriminant_analysis import LinearDiscriminantAnalysis as LDA\n",
    "# import eli5\n",
    "from mpl_toolkits import mplot3d \n",
    "from sklearn.linear_model import LogisticRegression\n",
    "import time\n",
    "from sklearn.manifold import TSNE\n",
    "# import eli5\n",
    "# from eli5 import show_weights\n",
    "# from eli5.sklearn import PermutationImportance\n",
    "# import dabl\n",
    "\n",
    "from pathlib import Path\n",
    "from tqdm.autonotebook import tqdm\n",
    "from sklearn.model_selection import train_test_split         # Split data into train and test set\n",
    "\n",
    "from utils import evaluate_classifier, get_sklearn_df \n",
    "\n",
    "# Allow more rows to be printed to investigate feature importance\n",
    "pd.set_option('display.max_rows', 300)\n",
    "\n",
    "# Automatically prints execution time for the individual cells\n",
    "%load_ext autotime\n",
    "\n",
    "# Automatically reloads functions defined in external files\n",
    "%load_ext autoreload\n",
    "%autoreload 2\n",
    "\n",
    "# Set xarray to use html as display_style\n",
    "xr.set_options(display_style=\"html\")\n",
    "\n",
    "# Tell matplotlib to plot directly in the notebook\n",
    "%matplotlib inline  \n",
    "\n",
    "# The path to the project (so absoute file paths can be used throughout the notebook)\n",
    "PROJ_PATH = Path.cwd().parent\n",
    "\n",
    "# Mapping dict\n",
    "mapping_dict_crop_types = {\n",
    "    'Kartofler, stivelses-': 'Potato',\n",
    "    'Kartofler, lægge- (egen opformering)': 'Potato',\n",
    "    'Kartofler, andre': 'Potato',\n",
    "    'Kartofler, spise-': 'Potato',\n",
    "    'Kartofler, lægge- (certificerede)': 'Potato',\n",
    "    'Vårbyg': 'Spring barley',\n",
    "    'Vinterbyg': 'Winter barley',\n",
    "    'Vårhvede': 'Spring wheat',\n",
    "    'Vinterhvede': 'Winter wheat',\n",
    "    'Vinterrug': 'Winter rye',\n",
    "    'Vårhavre': 'Spring oat',\n",
    "    'Silomajs': 'Maize',\n",
    "    'Vinterraps': 'Rapeseed',\n",
    "    'Permanent græs, normalt udbytte': 'Permanent grass',\n",
    "    'Pil': 'Willow',\n",
    "    'Skovdrift, alm.': 'Forest'\n",
    "}\n",
    "\n",
    "\n",
    "# Set seed for random generators\n",
    "RANDOM_SEED = 42\n",
    "\n",
    "# Seed the random generators\n",
    "random.seed(RANDOM_SEED)\n",
    "np.random.seed(RANDOM_SEED)\n",
    "os.environ['PYTHONHASHSEED'] = str(RANDOM_SEED)"
   ]
  },
  {
   "cell_type": "code",
   "execution_count": 2,
   "metadata": {},
   "outputs": [
    {
     "name": "stderr",
     "output_type": "stream",
     "text": [
      "Using TensorFlow backend.\n",
      "/Users/q3/opt/anaconda3/envs/lrp/lib/python3.6/site-packages/tensorflow/python/framework/dtypes.py:523: FutureWarning: Passing (type, 1) or '1type' as a synonym of type is deprecated; in a future version of numpy, it will be understood as (type, (1,)) / '(1,)type'.\n",
      "  _np_qint8 = np.dtype([(\"qint8\", np.int8, 1)])\n",
      "/Users/q3/opt/anaconda3/envs/lrp/lib/python3.6/site-packages/tensorflow/python/framework/dtypes.py:524: FutureWarning: Passing (type, 1) or '1type' as a synonym of type is deprecated; in a future version of numpy, it will be understood as (type, (1,)) / '(1,)type'.\n",
      "  _np_quint8 = np.dtype([(\"quint8\", np.uint8, 1)])\n",
      "/Users/q3/opt/anaconda3/envs/lrp/lib/python3.6/site-packages/tensorflow/python/framework/dtypes.py:525: FutureWarning: Passing (type, 1) or '1type' as a synonym of type is deprecated; in a future version of numpy, it will be understood as (type, (1,)) / '(1,)type'.\n",
      "  _np_qint16 = np.dtype([(\"qint16\", np.int16, 1)])\n",
      "/Users/q3/opt/anaconda3/envs/lrp/lib/python3.6/site-packages/tensorflow/python/framework/dtypes.py:526: FutureWarning: Passing (type, 1) or '1type' as a synonym of type is deprecated; in a future version of numpy, it will be understood as (type, (1,)) / '(1,)type'.\n",
      "  _np_quint16 = np.dtype([(\"quint16\", np.uint16, 1)])\n",
      "/Users/q3/opt/anaconda3/envs/lrp/lib/python3.6/site-packages/tensorflow/python/framework/dtypes.py:527: FutureWarning: Passing (type, 1) or '1type' as a synonym of type is deprecated; in a future version of numpy, it will be understood as (type, (1,)) / '(1,)type'.\n",
      "  _np_qint32 = np.dtype([(\"qint32\", np.int32, 1)])\n",
      "/Users/q3/opt/anaconda3/envs/lrp/lib/python3.6/site-packages/tensorflow/python/framework/dtypes.py:532: FutureWarning: Passing (type, 1) or '1type' as a synonym of type is deprecated; in a future version of numpy, it will be understood as (type, (1,)) / '(1,)type'.\n",
      "  np_resource = np.dtype([(\"resource\", np.ubyte, 1)])\n"
     ]
    },
    {
     "name": "stdout",
     "output_type": "stream",
     "text": [
      "time: 2.52 s\n"
     ]
    }
   ],
   "source": [
    "import imp\n",
    "import numpy as np\n",
    "import os\n",
    "\n",
    "import keras\n",
    "import keras.backend\n",
    "import keras.models\n",
    "\n",
    "import innvestigate\n",
    "import innvestigate.utils as iutils\n",
    "\n",
    "# Use utility libraries to focus on relevant iNNvestigate routines.\n",
    "eutils = imp.load_source(\"utils\", \"/Users/MyFolders/Aarhus/innvestigate/examples/utils.py\")\n",
    "mnistutils = imp.load_source(\"utils_mnist\", \"/Users/MyFolders/Aarhus/innvestigate/examples/utils_mnist.py\")"
   ]
  },
  {
   "cell_type": "code",
   "execution_count": 3,
   "metadata": {},
   "outputs": [
    {
     "data": {
      "text/html": [
       "<div><svg style=\"position: absolute; width: 0; height: 0; overflow: hidden\">\n",
       "<defs>\n",
       "<symbol id=\"icon-database\" viewBox=\"0 0 32 32\">\n",
       "<path d=\"M16 0c-8.837 0-16 2.239-16 5v4c0 2.761 7.163 5 16 5s16-2.239 16-5v-4c0-2.761-7.163-5-16-5z\"></path>\n",
       "<path d=\"M16 17c-8.837 0-16-2.239-16-5v6c0 2.761 7.163 5 16 5s16-2.239 16-5v-6c0 2.761-7.163 5-16 5z\"></path>\n",
       "<path d=\"M16 26c-8.837 0-16-2.239-16-5v6c0 2.761 7.163 5 16 5s16-2.239 16-5v-6c0 2.761-7.163 5-16 5z\"></path>\n",
       "</symbol>\n",
       "<symbol id=\"icon-file-text2\" viewBox=\"0 0 32 32\">\n",
       "<path d=\"M28.681 7.159c-0.694-0.947-1.662-2.053-2.724-3.116s-2.169-2.030-3.116-2.724c-1.612-1.182-2.393-1.319-2.841-1.319h-15.5c-1.378 0-2.5 1.121-2.5 2.5v27c0 1.378 1.122 2.5 2.5 2.5h23c1.378 0 2.5-1.122 2.5-2.5v-19.5c0-0.448-0.137-1.23-1.319-2.841zM24.543 5.457c0.959 0.959 1.712 1.825 2.268 2.543h-4.811v-4.811c0.718 0.556 1.584 1.309 2.543 2.268zM28 29.5c0 0.271-0.229 0.5-0.5 0.5h-23c-0.271 0-0.5-0.229-0.5-0.5v-27c0-0.271 0.229-0.5 0.5-0.5 0 0 15.499-0 15.5 0v7c0 0.552 0.448 1 1 1h7v19.5z\"></path>\n",
       "<path d=\"M23 26h-14c-0.552 0-1-0.448-1-1s0.448-1 1-1h14c0.552 0 1 0.448 1 1s-0.448 1-1 1z\"></path>\n",
       "<path d=\"M23 22h-14c-0.552 0-1-0.448-1-1s0.448-1 1-1h14c0.552 0 1 0.448 1 1s-0.448 1-1 1z\"></path>\n",
       "<path d=\"M23 18h-14c-0.552 0-1-0.448-1-1s0.448-1 1-1h14c0.552 0 1 0.448 1 1s-0.448 1-1 1z\"></path>\n",
       "</symbol>\n",
       "</defs>\n",
       "</svg>\n",
       "<style>/* CSS stylesheet for displaying xarray objects in jupyterlab.\n",
       " *\n",
       " */\n",
       "\n",
       ":root {\n",
       "  --xr-font-color0: var(--jp-content-font-color0, rgba(0, 0, 0, 1));\n",
       "  --xr-font-color2: var(--jp-content-font-color2, rgba(0, 0, 0, 0.54));\n",
       "  --xr-font-color3: var(--jp-content-font-color3, rgba(0, 0, 0, 0.38));\n",
       "  --xr-border-color: var(--jp-border-color2, #e0e0e0);\n",
       "  --xr-disabled-color: var(--jp-layout-color3, #bdbdbd);\n",
       "  --xr-background-color: var(--jp-layout-color0, white);\n",
       "  --xr-background-color-row-even: var(--jp-layout-color1, white);\n",
       "  --xr-background-color-row-odd: var(--jp-layout-color2, #eeeeee);\n",
       "}\n",
       "\n",
       "html[theme=dark],\n",
       "body.vscode-dark {\n",
       "  --xr-font-color0: rgba(255, 255, 255, 1);\n",
       "  --xr-font-color2: rgba(255, 255, 255, 0.54);\n",
       "  --xr-font-color3: rgba(255, 255, 255, 0.38);\n",
       "  --xr-border-color: #1F1F1F;\n",
       "  --xr-disabled-color: #515151;\n",
       "  --xr-background-color: #111111;\n",
       "  --xr-background-color-row-even: #111111;\n",
       "  --xr-background-color-row-odd: #313131;\n",
       "}\n",
       "\n",
       ".xr-wrap {\n",
       "  display: block;\n",
       "  min-width: 300px;\n",
       "  max-width: 700px;\n",
       "}\n",
       "\n",
       ".xr-text-repr-fallback {\n",
       "  /* fallback to plain text repr when CSS is not injected (untrusted notebook) */\n",
       "  display: none;\n",
       "}\n",
       "\n",
       ".xr-header {\n",
       "  padding-top: 6px;\n",
       "  padding-bottom: 6px;\n",
       "  margin-bottom: 4px;\n",
       "  border-bottom: solid 1px var(--xr-border-color);\n",
       "}\n",
       "\n",
       ".xr-header > div,\n",
       ".xr-header > ul {\n",
       "  display: inline;\n",
       "  margin-top: 0;\n",
       "  margin-bottom: 0;\n",
       "}\n",
       "\n",
       ".xr-obj-type,\n",
       ".xr-array-name {\n",
       "  margin-left: 2px;\n",
       "  margin-right: 10px;\n",
       "}\n",
       "\n",
       ".xr-obj-type {\n",
       "  color: var(--xr-font-color2);\n",
       "}\n",
       "\n",
       ".xr-sections {\n",
       "  padding-left: 0 !important;\n",
       "  display: grid;\n",
       "  grid-template-columns: 150px auto auto 1fr 20px 20px;\n",
       "}\n",
       "\n",
       ".xr-section-item {\n",
       "  display: contents;\n",
       "}\n",
       "\n",
       ".xr-section-item input {\n",
       "  display: none;\n",
       "}\n",
       "\n",
       ".xr-section-item input + label {\n",
       "  color: var(--xr-disabled-color);\n",
       "}\n",
       "\n",
       ".xr-section-item input:enabled + label {\n",
       "  cursor: pointer;\n",
       "  color: var(--xr-font-color2);\n",
       "}\n",
       "\n",
       ".xr-section-item input:enabled + label:hover {\n",
       "  color: var(--xr-font-color0);\n",
       "}\n",
       "\n",
       ".xr-section-summary {\n",
       "  grid-column: 1;\n",
       "  color: var(--xr-font-color2);\n",
       "  font-weight: 500;\n",
       "}\n",
       "\n",
       ".xr-section-summary > span {\n",
       "  display: inline-block;\n",
       "  padding-left: 0.5em;\n",
       "}\n",
       "\n",
       ".xr-section-summary-in:disabled + label {\n",
       "  color: var(--xr-font-color2);\n",
       "}\n",
       "\n",
       ".xr-section-summary-in + label:before {\n",
       "  display: inline-block;\n",
       "  content: '►';\n",
       "  font-size: 11px;\n",
       "  width: 15px;\n",
       "  text-align: center;\n",
       "}\n",
       "\n",
       ".xr-section-summary-in:disabled + label:before {\n",
       "  color: var(--xr-disabled-color);\n",
       "}\n",
       "\n",
       ".xr-section-summary-in:checked + label:before {\n",
       "  content: '▼';\n",
       "}\n",
       "\n",
       ".xr-section-summary-in:checked + label > span {\n",
       "  display: none;\n",
       "}\n",
       "\n",
       ".xr-section-summary,\n",
       ".xr-section-inline-details {\n",
       "  padding-top: 4px;\n",
       "  padding-bottom: 4px;\n",
       "}\n",
       "\n",
       ".xr-section-inline-details {\n",
       "  grid-column: 2 / -1;\n",
       "}\n",
       "\n",
       ".xr-section-details {\n",
       "  display: none;\n",
       "  grid-column: 1 / -1;\n",
       "  margin-bottom: 5px;\n",
       "}\n",
       "\n",
       ".xr-section-summary-in:checked ~ .xr-section-details {\n",
       "  display: contents;\n",
       "}\n",
       "\n",
       ".xr-array-wrap {\n",
       "  grid-column: 1 / -1;\n",
       "  display: grid;\n",
       "  grid-template-columns: 20px auto;\n",
       "}\n",
       "\n",
       ".xr-array-wrap > label {\n",
       "  grid-column: 1;\n",
       "  vertical-align: top;\n",
       "}\n",
       "\n",
       ".xr-preview {\n",
       "  color: var(--xr-font-color3);\n",
       "}\n",
       "\n",
       ".xr-array-preview,\n",
       ".xr-array-data {\n",
       "  padding: 0 5px !important;\n",
       "  grid-column: 2;\n",
       "}\n",
       "\n",
       ".xr-array-data,\n",
       ".xr-array-in:checked ~ .xr-array-preview {\n",
       "  display: none;\n",
       "}\n",
       "\n",
       ".xr-array-in:checked ~ .xr-array-data,\n",
       ".xr-array-preview {\n",
       "  display: inline-block;\n",
       "}\n",
       "\n",
       ".xr-dim-list {\n",
       "  display: inline-block !important;\n",
       "  list-style: none;\n",
       "  padding: 0 !important;\n",
       "  margin: 0;\n",
       "}\n",
       "\n",
       ".xr-dim-list li {\n",
       "  display: inline-block;\n",
       "  padding: 0;\n",
       "  margin: 0;\n",
       "}\n",
       "\n",
       ".xr-dim-list:before {\n",
       "  content: '(';\n",
       "}\n",
       "\n",
       ".xr-dim-list:after {\n",
       "  content: ')';\n",
       "}\n",
       "\n",
       ".xr-dim-list li:not(:last-child):after {\n",
       "  content: ',';\n",
       "  padding-right: 5px;\n",
       "}\n",
       "\n",
       ".xr-has-index {\n",
       "  font-weight: bold;\n",
       "}\n",
       "\n",
       ".xr-var-list,\n",
       ".xr-var-item {\n",
       "  display: contents;\n",
       "}\n",
       "\n",
       ".xr-var-item > div,\n",
       ".xr-var-item label,\n",
       ".xr-var-item > .xr-var-name span {\n",
       "  background-color: var(--xr-background-color-row-even);\n",
       "  margin-bottom: 0;\n",
       "}\n",
       "\n",
       ".xr-var-item > .xr-var-name:hover span {\n",
       "  padding-right: 5px;\n",
       "}\n",
       "\n",
       ".xr-var-list > li:nth-child(odd) > div,\n",
       ".xr-var-list > li:nth-child(odd) > label,\n",
       ".xr-var-list > li:nth-child(odd) > .xr-var-name span {\n",
       "  background-color: var(--xr-background-color-row-odd);\n",
       "}\n",
       "\n",
       ".xr-var-name {\n",
       "  grid-column: 1;\n",
       "}\n",
       "\n",
       ".xr-var-dims {\n",
       "  grid-column: 2;\n",
       "}\n",
       "\n",
       ".xr-var-dtype {\n",
       "  grid-column: 3;\n",
       "  text-align: right;\n",
       "  color: var(--xr-font-color2);\n",
       "}\n",
       "\n",
       ".xr-var-preview {\n",
       "  grid-column: 4;\n",
       "}\n",
       "\n",
       ".xr-var-name,\n",
       ".xr-var-dims,\n",
       ".xr-var-dtype,\n",
       ".xr-preview,\n",
       ".xr-attrs dt {\n",
       "  white-space: nowrap;\n",
       "  overflow: hidden;\n",
       "  text-overflow: ellipsis;\n",
       "  padding-right: 10px;\n",
       "}\n",
       "\n",
       ".xr-var-name:hover,\n",
       ".xr-var-dims:hover,\n",
       ".xr-var-dtype:hover,\n",
       ".xr-attrs dt:hover {\n",
       "  overflow: visible;\n",
       "  width: auto;\n",
       "  z-index: 1;\n",
       "}\n",
       "\n",
       ".xr-var-attrs,\n",
       ".xr-var-data {\n",
       "  display: none;\n",
       "  background-color: var(--xr-background-color) !important;\n",
       "  padding-bottom: 5px !important;\n",
       "}\n",
       "\n",
       ".xr-var-attrs-in:checked ~ .xr-var-attrs,\n",
       ".xr-var-data-in:checked ~ .xr-var-data {\n",
       "  display: block;\n",
       "}\n",
       "\n",
       ".xr-var-data > table {\n",
       "  float: right;\n",
       "}\n",
       "\n",
       ".xr-var-name span,\n",
       ".xr-var-data,\n",
       ".xr-attrs {\n",
       "  padding-left: 25px !important;\n",
       "}\n",
       "\n",
       ".xr-attrs,\n",
       ".xr-var-attrs,\n",
       ".xr-var-data {\n",
       "  grid-column: 1 / -1;\n",
       "}\n",
       "\n",
       "dl.xr-attrs {\n",
       "  padding: 0;\n",
       "  margin: 0;\n",
       "  display: grid;\n",
       "  grid-template-columns: 125px auto;\n",
       "}\n",
       "\n",
       ".xr-attrs dt, dd {\n",
       "  padding: 0;\n",
       "  margin: 0;\n",
       "  float: left;\n",
       "  padding-right: 10px;\n",
       "  width: auto;\n",
       "}\n",
       "\n",
       ".xr-attrs dt {\n",
       "  font-weight: normal;\n",
       "  grid-column: 1;\n",
       "}\n",
       "\n",
       ".xr-attrs dt:hover span {\n",
       "  display: inline-block;\n",
       "  background: var(--xr-background-color);\n",
       "  padding-right: 10px;\n",
       "}\n",
       "\n",
       ".xr-attrs dd {\n",
       "  grid-column: 2;\n",
       "  white-space: pre-wrap;\n",
       "  word-break: break-all;\n",
       "}\n",
       "\n",
       ".xr-icon-database,\n",
       ".xr-icon-file-text2 {\n",
       "  display: inline-block;\n",
       "  vertical-align: middle;\n",
       "  width: 1em;\n",
       "  height: 1.5em !important;\n",
       "  stroke-width: 0;\n",
       "  stroke: currentColor;\n",
       "  fill: currentColor;\n",
       "}\n",
       "</style><pre class='xr-text-repr-fallback'>&lt;xarray.Dataset&gt;\n",
       "Dimensions:         (date: 77, field_id: 52769, polarization: 3)\n",
       "Coordinates:\n",
       "  * date            (date) datetime64[ns] 2018-07-08 2018-07-14 ... 2019-10-31\n",
       "  * field_id        (field_id) int32 61853445 61952339 ... 67365067 67365062\n",
       "  * polarization    (polarization) object &#x27;VH&#x27; &#x27;VV&#x27; &#x27;VV-VH&#x27;\n",
       "Data variables:\n",
       "    afgkode         (field_id) int16 151 151 151 151 151 ... 580 580 580 580 580\n",
       "    afgroede        (field_id) object &#x27;Kartofler, stivelses-&#x27; ... &#x27;Skovdrift,...\n",
       "    cvr             (field_id) object &#x27;11770835&#x27; &#x27;28496257&#x27; ... &#x27;25365771&#x27;\n",
       "    gb              (field_id) float32 1.0 1.0 1.0 1.0 1.0 ... 0.0 0.0 0.0 0.0\n",
       "    gbanmeldt       (field_id) float32 1.83 6.02 1.84 5.52 ... 0.0 0.0 0.0 0.0\n",
       "    imk_areal       (field_id) float32 1.83 6.02 1.84 5.52 ... 1.2 1.97 2.55\n",
       "    journalnr       (field_id) object &#x27;19-0053272&#x27; &#x27;19-0017518&#x27; ... &#x27;19-0021570&#x27;\n",
       "    marknr          (field_id) object &#x27;2-0&#x27; &#x27;4-0&#x27; &#x27;6-1&#x27; ... &#x27;13-1&#x27; &#x27;10-2&#x27; &#x27;10-3&#x27;\n",
       "    pass_mode       (date) object &#x27;DSC&#x27; &#x27;DSC&#x27; &#x27;DSC&#x27; &#x27;DSC&#x27; ... &#x27;DSC&#x27; &#x27;DSC&#x27; &#x27;DSC&#x27;\n",
       "    relative_orbit  (date) int16 139 139 139 139 139 139 ... 139 139 139 139 139\n",
       "    satellite       (date) object &#x27;S1B&#x27; &#x27;S1A&#x27; &#x27;S1B&#x27; &#x27;S1A&#x27; ... &#x27;S1B&#x27; &#x27;S1A&#x27; &#x27;S1B&#x27;\n",
       "    stats_max       (field_id, date, polarization) float32 ...\n",
       "    stats_mean      (field_id, date, polarization) float32 ...\n",
       "    stats_median    (field_id, date, polarization) float32 ...\n",
       "    stats_min       (field_id, date, polarization) float32 ...\n",
       "    stats_std       (field_id, date, polarization) float32 ...</pre><div class='xr-wrap' hidden><div class='xr-header'><div class='xr-obj-type'>xarray.Dataset</div></div><ul class='xr-sections'><li class='xr-section-item'><input id='section-ec710af2-6093-4b36-895a-e75847ea4273' class='xr-section-summary-in' type='checkbox' disabled ><label for='section-ec710af2-6093-4b36-895a-e75847ea4273' class='xr-section-summary'  title='Expand/collapse section'>Dimensions:</label><div class='xr-section-inline-details'><ul class='xr-dim-list'><li><span class='xr-has-index'>date</span>: 77</li><li><span class='xr-has-index'>field_id</span>: 52769</li><li><span class='xr-has-index'>polarization</span>: 3</li></ul></div><div class='xr-section-details'></div></li><li class='xr-section-item'><input id='section-a1c72e16-a1fa-42cb-9731-9bf3c902a425' class='xr-section-summary-in' type='checkbox'  checked><label for='section-a1c72e16-a1fa-42cb-9731-9bf3c902a425' class='xr-section-summary' >Coordinates: <span>(3)</span></label><div class='xr-section-inline-details'></div><div class='xr-section-details'><ul class='xr-var-list'><li class='xr-var-item'><div class='xr-var-name'><span class='xr-has-index'>date</span></div><div class='xr-var-dims'>(date)</div><div class='xr-var-dtype'>datetime64[ns]</div><div class='xr-var-preview xr-preview'>2018-07-08 ... 2019-10-31</div><input id='attrs-8ad1240d-3c61-4d6b-9489-9c779a972935' class='xr-var-attrs-in' type='checkbox' disabled><label for='attrs-8ad1240d-3c61-4d6b-9489-9c779a972935' title='Show/Hide attributes'><svg class='icon xr-icon-file-text2'><use xlink:href='#icon-file-text2'></use></svg></label><input id='data-67cf6d3c-e84d-4c86-abe5-cfee28bed27e' class='xr-var-data-in' type='checkbox'><label for='data-67cf6d3c-e84d-4c86-abe5-cfee28bed27e' title='Show/Hide data repr'><svg class='icon xr-icon-database'><use xlink:href='#icon-database'></use></svg></label><div class='xr-var-attrs'><dl class='xr-attrs'></dl></div><div class='xr-var-data'><pre>array([&#x27;2018-07-08T00:00:00.000000000&#x27;, &#x27;2018-07-14T00:00:00.000000000&#x27;,\n",
       "       &#x27;2018-07-20T00:00:00.000000000&#x27;, &#x27;2018-07-26T00:00:00.000000000&#x27;,\n",
       "       &#x27;2018-08-01T00:00:00.000000000&#x27;, &#x27;2018-08-07T00:00:00.000000000&#x27;,\n",
       "       &#x27;2018-08-13T00:00:00.000000000&#x27;, &#x27;2018-08-19T00:00:00.000000000&#x27;,\n",
       "       &#x27;2018-08-25T00:00:00.000000000&#x27;, &#x27;2018-08-31T00:00:00.000000000&#x27;,\n",
       "       &#x27;2018-09-12T00:00:00.000000000&#x27;, &#x27;2018-09-18T00:00:00.000000000&#x27;,\n",
       "       &#x27;2018-09-24T00:00:00.000000000&#x27;, &#x27;2018-09-30T00:00:00.000000000&#x27;,\n",
       "       &#x27;2018-10-06T00:00:00.000000000&#x27;, &#x27;2018-10-12T00:00:00.000000000&#x27;,\n",
       "       &#x27;2018-10-18T00:00:00.000000000&#x27;, &#x27;2018-10-24T00:00:00.000000000&#x27;,\n",
       "       &#x27;2018-10-30T00:00:00.000000000&#x27;, &#x27;2018-11-05T00:00:00.000000000&#x27;,\n",
       "       &#x27;2018-11-11T00:00:00.000000000&#x27;, &#x27;2018-11-29T00:00:00.000000000&#x27;,\n",
       "       &#x27;2018-12-05T00:00:00.000000000&#x27;, &#x27;2018-12-11T00:00:00.000000000&#x27;,\n",
       "       &#x27;2018-12-17T00:00:00.000000000&#x27;, &#x27;2018-12-23T00:00:00.000000000&#x27;,\n",
       "       &#x27;2018-12-29T00:00:00.000000000&#x27;, &#x27;2019-01-04T00:00:00.000000000&#x27;,\n",
       "       &#x27;2019-01-10T00:00:00.000000000&#x27;, &#x27;2019-01-16T00:00:00.000000000&#x27;,\n",
       "       &#x27;2019-01-22T00:00:00.000000000&#x27;, &#x27;2019-01-28T00:00:00.000000000&#x27;,\n",
       "       &#x27;2019-02-03T00:00:00.000000000&#x27;, &#x27;2019-02-09T00:00:00.000000000&#x27;,\n",
       "       &#x27;2019-02-21T00:00:00.000000000&#x27;, &#x27;2019-02-27T00:00:00.000000000&#x27;,\n",
       "       &#x27;2019-03-05T00:00:00.000000000&#x27;, &#x27;2019-03-11T00:00:00.000000000&#x27;,\n",
       "       &#x27;2019-03-17T00:00:00.000000000&#x27;, &#x27;2019-03-23T00:00:00.000000000&#x27;,\n",
       "       &#x27;2019-03-29T00:00:00.000000000&#x27;, &#x27;2019-04-04T00:00:00.000000000&#x27;,\n",
       "       &#x27;2019-04-10T00:00:00.000000000&#x27;, &#x27;2019-04-16T00:00:00.000000000&#x27;,\n",
       "       &#x27;2019-04-22T00:00:00.000000000&#x27;, &#x27;2019-04-28T00:00:00.000000000&#x27;,\n",
       "       &#x27;2019-05-04T00:00:00.000000000&#x27;, &#x27;2019-05-10T00:00:00.000000000&#x27;,\n",
       "       &#x27;2019-05-16T00:00:00.000000000&#x27;, &#x27;2019-05-22T00:00:00.000000000&#x27;,\n",
       "       &#x27;2019-05-28T00:00:00.000000000&#x27;, &#x27;2019-06-03T00:00:00.000000000&#x27;,\n",
       "       &#x27;2019-06-09T00:00:00.000000000&#x27;, &#x27;2019-06-15T00:00:00.000000000&#x27;,\n",
       "       &#x27;2019-06-21T00:00:00.000000000&#x27;, &#x27;2019-06-27T00:00:00.000000000&#x27;,\n",
       "       &#x27;2019-07-03T00:00:00.000000000&#x27;, &#x27;2019-07-09T00:00:00.000000000&#x27;,\n",
       "       &#x27;2019-07-15T00:00:00.000000000&#x27;, &#x27;2019-07-21T00:00:00.000000000&#x27;,\n",
       "       &#x27;2019-07-27T00:00:00.000000000&#x27;, &#x27;2019-08-02T00:00:00.000000000&#x27;,\n",
       "       &#x27;2019-08-08T00:00:00.000000000&#x27;, &#x27;2019-08-14T00:00:00.000000000&#x27;,\n",
       "       &#x27;2019-08-20T00:00:00.000000000&#x27;, &#x27;2019-08-26T00:00:00.000000000&#x27;,\n",
       "       &#x27;2019-09-01T00:00:00.000000000&#x27;, &#x27;2019-09-07T00:00:00.000000000&#x27;,\n",
       "       &#x27;2019-09-13T00:00:00.000000000&#x27;, &#x27;2019-09-19T00:00:00.000000000&#x27;,\n",
       "       &#x27;2019-09-25T00:00:00.000000000&#x27;, &#x27;2019-10-01T00:00:00.000000000&#x27;,\n",
       "       &#x27;2019-10-07T00:00:00.000000000&#x27;, &#x27;2019-10-13T00:00:00.000000000&#x27;,\n",
       "       &#x27;2019-10-19T00:00:00.000000000&#x27;, &#x27;2019-10-25T00:00:00.000000000&#x27;,\n",
       "       &#x27;2019-10-31T00:00:00.000000000&#x27;], dtype=&#x27;datetime64[ns]&#x27;)</pre></div></li><li class='xr-var-item'><div class='xr-var-name'><span class='xr-has-index'>field_id</span></div><div class='xr-var-dims'>(field_id)</div><div class='xr-var-dtype'>int32</div><div class='xr-var-preview xr-preview'>61853445 61952339 ... 67365062</div><input id='attrs-46010d1e-de2d-4725-8c7c-3ade12fb4e73' class='xr-var-attrs-in' type='checkbox' disabled><label for='attrs-46010d1e-de2d-4725-8c7c-3ade12fb4e73' title='Show/Hide attributes'><svg class='icon xr-icon-file-text2'><use xlink:href='#icon-file-text2'></use></svg></label><input id='data-d38adf89-6f00-4097-b10b-f4f3bd75b906' class='xr-var-data-in' type='checkbox'><label for='data-d38adf89-6f00-4097-b10b-f4f3bd75b906' title='Show/Hide data repr'><svg class='icon xr-icon-database'><use xlink:href='#icon-database'></use></svg></label><div class='xr-var-attrs'><dl class='xr-attrs'></dl></div><div class='xr-var-data'><pre>array([61853445, 61952339, 61952436, ..., 67363971, 67365067, 67365062],\n",
       "      dtype=int32)</pre></div></li><li class='xr-var-item'><div class='xr-var-name'><span class='xr-has-index'>polarization</span></div><div class='xr-var-dims'>(polarization)</div><div class='xr-var-dtype'>object</div><div class='xr-var-preview xr-preview'>&#x27;VH&#x27; &#x27;VV&#x27; &#x27;VV-VH&#x27;</div><input id='attrs-085cd35f-4ae6-4fa2-a0c1-a13cc7a3111f' class='xr-var-attrs-in' type='checkbox' disabled><label for='attrs-085cd35f-4ae6-4fa2-a0c1-a13cc7a3111f' title='Show/Hide attributes'><svg class='icon xr-icon-file-text2'><use xlink:href='#icon-file-text2'></use></svg></label><input id='data-065a1321-cc0c-4e6e-9962-bcd48bf4c000' class='xr-var-data-in' type='checkbox'><label for='data-065a1321-cc0c-4e6e-9962-bcd48bf4c000' title='Show/Hide data repr'><svg class='icon xr-icon-database'><use xlink:href='#icon-database'></use></svg></label><div class='xr-var-attrs'><dl class='xr-attrs'></dl></div><div class='xr-var-data'><pre>array([&#x27;VH&#x27;, &#x27;VV&#x27;, &#x27;VV-VH&#x27;], dtype=object)</pre></div></li></ul></div></li><li class='xr-section-item'><input id='section-e480856a-80c1-48bf-89f4-6afbe0f0cc6c' class='xr-section-summary-in' type='checkbox'  ><label for='section-e480856a-80c1-48bf-89f4-6afbe0f0cc6c' class='xr-section-summary' >Data variables: <span>(16)</span></label><div class='xr-section-inline-details'></div><div class='xr-section-details'><ul class='xr-var-list'><li class='xr-var-item'><div class='xr-var-name'><span>afgkode</span></div><div class='xr-var-dims'>(field_id)</div><div class='xr-var-dtype'>int16</div><div class='xr-var-preview xr-preview'>...</div><input id='attrs-698baa7e-cbde-44b1-bdb0-c8a1376f774f' class='xr-var-attrs-in' type='checkbox' disabled><label for='attrs-698baa7e-cbde-44b1-bdb0-c8a1376f774f' title='Show/Hide attributes'><svg class='icon xr-icon-file-text2'><use xlink:href='#icon-file-text2'></use></svg></label><input id='data-df23af07-4d93-45ef-a8bd-9a1474645a39' class='xr-var-data-in' type='checkbox'><label for='data-df23af07-4d93-45ef-a8bd-9a1474645a39' title='Show/Hide data repr'><svg class='icon xr-icon-database'><use xlink:href='#icon-database'></use></svg></label><div class='xr-var-attrs'><dl class='xr-attrs'></dl></div><div class='xr-var-data'><pre>array([151, 151, 151, ..., 580, 580, 580], dtype=int16)</pre></div></li><li class='xr-var-item'><div class='xr-var-name'><span>afgroede</span></div><div class='xr-var-dims'>(field_id)</div><div class='xr-var-dtype'>object</div><div class='xr-var-preview xr-preview'>...</div><input id='attrs-e5c9c872-255e-4eeb-bd9f-89ebce41b8f7' class='xr-var-attrs-in' type='checkbox' disabled><label for='attrs-e5c9c872-255e-4eeb-bd9f-89ebce41b8f7' title='Show/Hide attributes'><svg class='icon xr-icon-file-text2'><use xlink:href='#icon-file-text2'></use></svg></label><input id='data-b2e767dc-2b3e-444f-bf38-bb4dc32a715f' class='xr-var-data-in' type='checkbox'><label for='data-b2e767dc-2b3e-444f-bf38-bb4dc32a715f' title='Show/Hide data repr'><svg class='icon xr-icon-database'><use xlink:href='#icon-database'></use></svg></label><div class='xr-var-attrs'><dl class='xr-attrs'></dl></div><div class='xr-var-data'><pre>array([&#x27;Kartofler, stivelses-&#x27;, &#x27;Kartofler, stivelses-&#x27;,\n",
       "       &#x27;Kartofler, stivelses-&#x27;, ..., &#x27;Skovdrift, alm.&#x27;, &#x27;Skovdrift, alm.&#x27;,\n",
       "       &#x27;Skovdrift, alm.&#x27;], dtype=object)</pre></div></li><li class='xr-var-item'><div class='xr-var-name'><span>cvr</span></div><div class='xr-var-dims'>(field_id)</div><div class='xr-var-dtype'>object</div><div class='xr-var-preview xr-preview'>...</div><input id='attrs-2a1f969f-7353-4222-986a-f72ac462c71f' class='xr-var-attrs-in' type='checkbox' disabled><label for='attrs-2a1f969f-7353-4222-986a-f72ac462c71f' title='Show/Hide attributes'><svg class='icon xr-icon-file-text2'><use xlink:href='#icon-file-text2'></use></svg></label><input id='data-746fad3e-ac49-49db-b00d-43fdbd2dc598' class='xr-var-data-in' type='checkbox'><label for='data-746fad3e-ac49-49db-b00d-43fdbd2dc598' title='Show/Hide data repr'><svg class='icon xr-icon-database'><use xlink:href='#icon-database'></use></svg></label><div class='xr-var-attrs'><dl class='xr-attrs'></dl></div><div class='xr-var-data'><pre>array([&#x27;11770835&#x27;, &#x27;28496257&#x27;, &#x27;28496257&#x27;, ..., &#x27;51618351&#x27;, &#x27;25365771&#x27;,\n",
       "       &#x27;25365771&#x27;], dtype=object)</pre></div></li><li class='xr-var-item'><div class='xr-var-name'><span>gb</span></div><div class='xr-var-dims'>(field_id)</div><div class='xr-var-dtype'>float32</div><div class='xr-var-preview xr-preview'>...</div><input id='attrs-df66c1e7-f208-4c29-84ff-c22545eab49b' class='xr-var-attrs-in' type='checkbox' disabled><label for='attrs-df66c1e7-f208-4c29-84ff-c22545eab49b' title='Show/Hide attributes'><svg class='icon xr-icon-file-text2'><use xlink:href='#icon-file-text2'></use></svg></label><input id='data-324784bc-8c43-4f5b-b815-cc3f42888b0c' class='xr-var-data-in' type='checkbox'><label for='data-324784bc-8c43-4f5b-b815-cc3f42888b0c' title='Show/Hide data repr'><svg class='icon xr-icon-database'><use xlink:href='#icon-database'></use></svg></label><div class='xr-var-attrs'><dl class='xr-attrs'></dl></div><div class='xr-var-data'><pre>array([1., 1., 1., ..., 0., 0., 0.], dtype=float32)</pre></div></li><li class='xr-var-item'><div class='xr-var-name'><span>gbanmeldt</span></div><div class='xr-var-dims'>(field_id)</div><div class='xr-var-dtype'>float32</div><div class='xr-var-preview xr-preview'>...</div><input id='attrs-a49d3056-3ee4-4339-bcbb-e983895d3f5c' class='xr-var-attrs-in' type='checkbox' disabled><label for='attrs-a49d3056-3ee4-4339-bcbb-e983895d3f5c' title='Show/Hide attributes'><svg class='icon xr-icon-file-text2'><use xlink:href='#icon-file-text2'></use></svg></label><input id='data-1ed6b4ef-a563-4f27-8e72-ca57031c7538' class='xr-var-data-in' type='checkbox'><label for='data-1ed6b4ef-a563-4f27-8e72-ca57031c7538' title='Show/Hide data repr'><svg class='icon xr-icon-database'><use xlink:href='#icon-database'></use></svg></label><div class='xr-var-attrs'><dl class='xr-attrs'></dl></div><div class='xr-var-data'><pre>array([1.83, 6.02, 1.84, ..., 0.  , 0.  , 0.  ], dtype=float32)</pre></div></li><li class='xr-var-item'><div class='xr-var-name'><span>imk_areal</span></div><div class='xr-var-dims'>(field_id)</div><div class='xr-var-dtype'>float32</div><div class='xr-var-preview xr-preview'>...</div><input id='attrs-720b705a-8fc0-4de5-aba6-71a3aac7cecc' class='xr-var-attrs-in' type='checkbox' disabled><label for='attrs-720b705a-8fc0-4de5-aba6-71a3aac7cecc' title='Show/Hide attributes'><svg class='icon xr-icon-file-text2'><use xlink:href='#icon-file-text2'></use></svg></label><input id='data-1f2971cb-1d9e-40d0-bdec-2e3b6a4ff944' class='xr-var-data-in' type='checkbox'><label for='data-1f2971cb-1d9e-40d0-bdec-2e3b6a4ff944' title='Show/Hide data repr'><svg class='icon xr-icon-database'><use xlink:href='#icon-database'></use></svg></label><div class='xr-var-attrs'><dl class='xr-attrs'></dl></div><div class='xr-var-data'><pre>array([1.83, 6.02, 1.84, ..., 1.2 , 1.97, 2.55], dtype=float32)</pre></div></li><li class='xr-var-item'><div class='xr-var-name'><span>journalnr</span></div><div class='xr-var-dims'>(field_id)</div><div class='xr-var-dtype'>object</div><div class='xr-var-preview xr-preview'>...</div><input id='attrs-0b5f3b65-7f15-4504-9879-bc6bd24f8201' class='xr-var-attrs-in' type='checkbox' disabled><label for='attrs-0b5f3b65-7f15-4504-9879-bc6bd24f8201' title='Show/Hide attributes'><svg class='icon xr-icon-file-text2'><use xlink:href='#icon-file-text2'></use></svg></label><input id='data-313a1356-fce2-49d6-bfa1-8e1a1ffdf35f' class='xr-var-data-in' type='checkbox'><label for='data-313a1356-fce2-49d6-bfa1-8e1a1ffdf35f' title='Show/Hide data repr'><svg class='icon xr-icon-database'><use xlink:href='#icon-database'></use></svg></label><div class='xr-var-attrs'><dl class='xr-attrs'></dl></div><div class='xr-var-data'><pre>array([&#x27;19-0053272&#x27;, &#x27;19-0017518&#x27;, &#x27;19-0017518&#x27;, ..., &#x27;19-0007945&#x27;,\n",
       "       &#x27;19-0021570&#x27;, &#x27;19-0021570&#x27;], dtype=object)</pre></div></li><li class='xr-var-item'><div class='xr-var-name'><span>marknr</span></div><div class='xr-var-dims'>(field_id)</div><div class='xr-var-dtype'>object</div><div class='xr-var-preview xr-preview'>...</div><input id='attrs-bd963c67-904b-401b-b4a1-0185d16e96c5' class='xr-var-attrs-in' type='checkbox' disabled><label for='attrs-bd963c67-904b-401b-b4a1-0185d16e96c5' title='Show/Hide attributes'><svg class='icon xr-icon-file-text2'><use xlink:href='#icon-file-text2'></use></svg></label><input id='data-8769f582-6f7d-4926-9743-545dc7b7eedd' class='xr-var-data-in' type='checkbox'><label for='data-8769f582-6f7d-4926-9743-545dc7b7eedd' title='Show/Hide data repr'><svg class='icon xr-icon-database'><use xlink:href='#icon-database'></use></svg></label><div class='xr-var-attrs'><dl class='xr-attrs'></dl></div><div class='xr-var-data'><pre>array([&#x27;2-0&#x27;, &#x27;4-0&#x27;, &#x27;6-1&#x27;, ..., &#x27;13-1&#x27;, &#x27;10-2&#x27;, &#x27;10-3&#x27;], dtype=object)</pre></div></li><li class='xr-var-item'><div class='xr-var-name'><span>pass_mode</span></div><div class='xr-var-dims'>(date)</div><div class='xr-var-dtype'>object</div><div class='xr-var-preview xr-preview'>...</div><input id='attrs-92c041f6-5656-4a85-8af4-376ed061d853' class='xr-var-attrs-in' type='checkbox' disabled><label for='attrs-92c041f6-5656-4a85-8af4-376ed061d853' title='Show/Hide attributes'><svg class='icon xr-icon-file-text2'><use xlink:href='#icon-file-text2'></use></svg></label><input id='data-4b85094a-7186-4cb2-b926-21ba5d1371f1' class='xr-var-data-in' type='checkbox'><label for='data-4b85094a-7186-4cb2-b926-21ba5d1371f1' title='Show/Hide data repr'><svg class='icon xr-icon-database'><use xlink:href='#icon-database'></use></svg></label><div class='xr-var-attrs'><dl class='xr-attrs'></dl></div><div class='xr-var-data'><pre>array([&#x27;DSC&#x27;, &#x27;DSC&#x27;, &#x27;DSC&#x27;, &#x27;DSC&#x27;, &#x27;DSC&#x27;, &#x27;DSC&#x27;, &#x27;DSC&#x27;, &#x27;DSC&#x27;, &#x27;DSC&#x27;, &#x27;DSC&#x27;,\n",
       "       &#x27;DSC&#x27;, &#x27;DSC&#x27;, &#x27;DSC&#x27;, &#x27;DSC&#x27;, &#x27;DSC&#x27;, &#x27;DSC&#x27;, &#x27;DSC&#x27;, &#x27;DSC&#x27;, &#x27;DSC&#x27;, &#x27;DSC&#x27;,\n",
       "       &#x27;DSC&#x27;, &#x27;DSC&#x27;, &#x27;DSC&#x27;, &#x27;DSC&#x27;, &#x27;DSC&#x27;, &#x27;DSC&#x27;, &#x27;DSC&#x27;, &#x27;DSC&#x27;, &#x27;DSC&#x27;, &#x27;DSC&#x27;,\n",
       "       &#x27;DSC&#x27;, &#x27;DSC&#x27;, &#x27;DSC&#x27;, &#x27;DSC&#x27;, &#x27;DSC&#x27;, &#x27;DSC&#x27;, &#x27;DSC&#x27;, &#x27;DSC&#x27;, &#x27;DSC&#x27;, &#x27;DSC&#x27;,\n",
       "       &#x27;DSC&#x27;, &#x27;DSC&#x27;, &#x27;DSC&#x27;, &#x27;DSC&#x27;, &#x27;DSC&#x27;, &#x27;DSC&#x27;, &#x27;DSC&#x27;, &#x27;DSC&#x27;, &#x27;DSC&#x27;, &#x27;DSC&#x27;,\n",
       "       &#x27;DSC&#x27;, &#x27;DSC&#x27;, &#x27;DSC&#x27;, &#x27;DSC&#x27;, &#x27;DSC&#x27;, &#x27;DSC&#x27;, &#x27;DSC&#x27;, &#x27;DSC&#x27;, &#x27;DSC&#x27;, &#x27;DSC&#x27;,\n",
       "       &#x27;DSC&#x27;, &#x27;DSC&#x27;, &#x27;DSC&#x27;, &#x27;DSC&#x27;, &#x27;DSC&#x27;, &#x27;DSC&#x27;, &#x27;DSC&#x27;, &#x27;DSC&#x27;, &#x27;DSC&#x27;, &#x27;DSC&#x27;,\n",
       "       &#x27;DSC&#x27;, &#x27;DSC&#x27;, &#x27;DSC&#x27;, &#x27;DSC&#x27;, &#x27;DSC&#x27;, &#x27;DSC&#x27;, &#x27;DSC&#x27;], dtype=object)</pre></div></li><li class='xr-var-item'><div class='xr-var-name'><span>relative_orbit</span></div><div class='xr-var-dims'>(date)</div><div class='xr-var-dtype'>int16</div><div class='xr-var-preview xr-preview'>...</div><input id='attrs-8cc57a7a-c2e1-44ee-88bb-0a55d020857d' class='xr-var-attrs-in' type='checkbox' disabled><label for='attrs-8cc57a7a-c2e1-44ee-88bb-0a55d020857d' title='Show/Hide attributes'><svg class='icon xr-icon-file-text2'><use xlink:href='#icon-file-text2'></use></svg></label><input id='data-950096a5-afee-4bd5-9220-f030e0277d10' class='xr-var-data-in' type='checkbox'><label for='data-950096a5-afee-4bd5-9220-f030e0277d10' title='Show/Hide data repr'><svg class='icon xr-icon-database'><use xlink:href='#icon-database'></use></svg></label><div class='xr-var-attrs'><dl class='xr-attrs'></dl></div><div class='xr-var-data'><pre>array([139, 139, 139, 139, 139, 139, 139, 139, 139, 139, 139, 139, 139, 139,\n",
       "       139, 139, 139, 139, 139, 139, 139, 139, 139, 139, 139, 139, 139, 139,\n",
       "       139, 139, 139, 139, 139, 139, 139, 139, 139, 139, 139, 139, 139, 139,\n",
       "       139, 139, 139, 139, 139, 139, 139, 139, 139, 139, 139, 139, 139, 139,\n",
       "       139, 139, 139, 139, 139, 139, 139, 139, 139, 139, 139, 139, 139, 139,\n",
       "       139, 139, 139, 139, 139, 139, 139], dtype=int16)</pre></div></li><li class='xr-var-item'><div class='xr-var-name'><span>satellite</span></div><div class='xr-var-dims'>(date)</div><div class='xr-var-dtype'>object</div><div class='xr-var-preview xr-preview'>...</div><input id='attrs-6ab03447-e605-4e2d-96eb-eb8a3baf96fb' class='xr-var-attrs-in' type='checkbox' disabled><label for='attrs-6ab03447-e605-4e2d-96eb-eb8a3baf96fb' title='Show/Hide attributes'><svg class='icon xr-icon-file-text2'><use xlink:href='#icon-file-text2'></use></svg></label><input id='data-fc87ea68-cda6-4a1f-8dc8-3d0506bbd504' class='xr-var-data-in' type='checkbox'><label for='data-fc87ea68-cda6-4a1f-8dc8-3d0506bbd504' title='Show/Hide data repr'><svg class='icon xr-icon-database'><use xlink:href='#icon-database'></use></svg></label><div class='xr-var-attrs'><dl class='xr-attrs'></dl></div><div class='xr-var-data'><pre>array([&#x27;S1B&#x27;, &#x27;S1A&#x27;, &#x27;S1B&#x27;, &#x27;S1A&#x27;, &#x27;S1B&#x27;, &#x27;S1A&#x27;, &#x27;S1B&#x27;, &#x27;S1A&#x27;, &#x27;S1B&#x27;, &#x27;S1A&#x27;,\n",
       "       &#x27;S1A&#x27;, &#x27;S1B&#x27;, &#x27;S1A&#x27;, &#x27;S1B&#x27;, &#x27;S1A&#x27;, &#x27;S1B&#x27;, &#x27;S1A&#x27;, &#x27;S1B&#x27;, &#x27;S1A&#x27;, &#x27;S1B&#x27;,\n",
       "       &#x27;S1A&#x27;, &#x27;S1B&#x27;, &#x27;S1A&#x27;, &#x27;S1B&#x27;, &#x27;S1A&#x27;, &#x27;S1B&#x27;, &#x27;S1A&#x27;, &#x27;S1B&#x27;, &#x27;S1A&#x27;, &#x27;S1B&#x27;,\n",
       "       &#x27;S1A&#x27;, &#x27;S1B&#x27;, &#x27;S1A&#x27;, &#x27;S1B&#x27;, &#x27;S1B&#x27;, &#x27;S1A&#x27;, &#x27;S1B&#x27;, &#x27;S1A&#x27;, &#x27;S1B&#x27;, &#x27;S1A&#x27;,\n",
       "       &#x27;S1B&#x27;, &#x27;S1A&#x27;, &#x27;S1B&#x27;, &#x27;S1A&#x27;, &#x27;S1B&#x27;, &#x27;S1A&#x27;, &#x27;S1B&#x27;, &#x27;S1A&#x27;, &#x27;S1B&#x27;, &#x27;S1A&#x27;,\n",
       "       &#x27;S1B&#x27;, &#x27;S1A&#x27;, &#x27;S1B&#x27;, &#x27;S1A&#x27;, &#x27;S1B&#x27;, &#x27;S1A&#x27;, &#x27;S1B&#x27;, &#x27;S1A&#x27;, &#x27;S1B&#x27;, &#x27;S1A&#x27;,\n",
       "       &#x27;S1B&#x27;, &#x27;S1A&#x27;, &#x27;S1B&#x27;, &#x27;S1A&#x27;, &#x27;S1B&#x27;, &#x27;S1A&#x27;, &#x27;S1B&#x27;, &#x27;S1A&#x27;, &#x27;S1B&#x27;, &#x27;S1A&#x27;,\n",
       "       &#x27;S1B&#x27;, &#x27;S1A&#x27;, &#x27;S1B&#x27;, &#x27;S1A&#x27;, &#x27;S1B&#x27;, &#x27;S1A&#x27;, &#x27;S1B&#x27;], dtype=object)</pre></div></li><li class='xr-var-item'><div class='xr-var-name'><span>stats_max</span></div><div class='xr-var-dims'>(field_id, date, polarization)</div><div class='xr-var-dtype'>float32</div><div class='xr-var-preview xr-preview'>...</div><input id='attrs-40d731d5-4559-4225-8959-2549b3482fc9' class='xr-var-attrs-in' type='checkbox' disabled><label for='attrs-40d731d5-4559-4225-8959-2549b3482fc9' title='Show/Hide attributes'><svg class='icon xr-icon-file-text2'><use xlink:href='#icon-file-text2'></use></svg></label><input id='data-52923e68-0c09-4b38-9781-f5a540199aa4' class='xr-var-data-in' type='checkbox'><label for='data-52923e68-0c09-4b38-9781-f5a540199aa4' title='Show/Hide data repr'><svg class='icon xr-icon-database'><use xlink:href='#icon-database'></use></svg></label><div class='xr-var-attrs'><dl class='xr-attrs'></dl></div><div class='xr-var-data'><pre>[12189639 values with dtype=float32]</pre></div></li><li class='xr-var-item'><div class='xr-var-name'><span>stats_mean</span></div><div class='xr-var-dims'>(field_id, date, polarization)</div><div class='xr-var-dtype'>float32</div><div class='xr-var-preview xr-preview'>...</div><input id='attrs-e39e3e53-1ba4-4d1b-812d-871495abc084' class='xr-var-attrs-in' type='checkbox' disabled><label for='attrs-e39e3e53-1ba4-4d1b-812d-871495abc084' title='Show/Hide attributes'><svg class='icon xr-icon-file-text2'><use xlink:href='#icon-file-text2'></use></svg></label><input id='data-47634258-12e5-41cf-98dc-4e116c3be0b7' class='xr-var-data-in' type='checkbox'><label for='data-47634258-12e5-41cf-98dc-4e116c3be0b7' title='Show/Hide data repr'><svg class='icon xr-icon-database'><use xlink:href='#icon-database'></use></svg></label><div class='xr-var-attrs'><dl class='xr-attrs'></dl></div><div class='xr-var-data'><pre>[12189639 values with dtype=float32]</pre></div></li><li class='xr-var-item'><div class='xr-var-name'><span>stats_median</span></div><div class='xr-var-dims'>(field_id, date, polarization)</div><div class='xr-var-dtype'>float32</div><div class='xr-var-preview xr-preview'>...</div><input id='attrs-7d16ebaa-defa-489f-bc2a-73a71614b996' class='xr-var-attrs-in' type='checkbox' disabled><label for='attrs-7d16ebaa-defa-489f-bc2a-73a71614b996' title='Show/Hide attributes'><svg class='icon xr-icon-file-text2'><use xlink:href='#icon-file-text2'></use></svg></label><input id='data-20e48546-f804-4cac-b5a3-2ba2eb80ec95' class='xr-var-data-in' type='checkbox'><label for='data-20e48546-f804-4cac-b5a3-2ba2eb80ec95' title='Show/Hide data repr'><svg class='icon xr-icon-database'><use xlink:href='#icon-database'></use></svg></label><div class='xr-var-attrs'><dl class='xr-attrs'></dl></div><div class='xr-var-data'><pre>[12189639 values with dtype=float32]</pre></div></li><li class='xr-var-item'><div class='xr-var-name'><span>stats_min</span></div><div class='xr-var-dims'>(field_id, date, polarization)</div><div class='xr-var-dtype'>float32</div><div class='xr-var-preview xr-preview'>...</div><input id='attrs-701d7988-7cae-46c5-a93d-a7f0ec3b6ea7' class='xr-var-attrs-in' type='checkbox' disabled><label for='attrs-701d7988-7cae-46c5-a93d-a7f0ec3b6ea7' title='Show/Hide attributes'><svg class='icon xr-icon-file-text2'><use xlink:href='#icon-file-text2'></use></svg></label><input id='data-104959ea-7219-4640-af93-4d122f240364' class='xr-var-data-in' type='checkbox'><label for='data-104959ea-7219-4640-af93-4d122f240364' title='Show/Hide data repr'><svg class='icon xr-icon-database'><use xlink:href='#icon-database'></use></svg></label><div class='xr-var-attrs'><dl class='xr-attrs'></dl></div><div class='xr-var-data'><pre>[12189639 values with dtype=float32]</pre></div></li><li class='xr-var-item'><div class='xr-var-name'><span>stats_std</span></div><div class='xr-var-dims'>(field_id, date, polarization)</div><div class='xr-var-dtype'>float32</div><div class='xr-var-preview xr-preview'>...</div><input id='attrs-ef3a7d16-77e5-428a-bb93-6e05bbaed517' class='xr-var-attrs-in' type='checkbox' disabled><label for='attrs-ef3a7d16-77e5-428a-bb93-6e05bbaed517' title='Show/Hide attributes'><svg class='icon xr-icon-file-text2'><use xlink:href='#icon-file-text2'></use></svg></label><input id='data-49aa6dd4-a58e-45db-925b-c20a3085bdbe' class='xr-var-data-in' type='checkbox'><label for='data-49aa6dd4-a58e-45db-925b-c20a3085bdbe' title='Show/Hide data repr'><svg class='icon xr-icon-database'><use xlink:href='#icon-database'></use></svg></label><div class='xr-var-attrs'><dl class='xr-attrs'></dl></div><div class='xr-var-data'><pre>[12189639 values with dtype=float32]</pre></div></li></ul></div></li><li class='xr-section-item'><input id='section-18927b85-7613-4570-b894-d8cae0efa2ca' class='xr-section-summary-in' type='checkbox' disabled ><label for='section-18927b85-7613-4570-b894-d8cae0efa2ca' class='xr-section-summary'  title='Expand/collapse section'>Attributes: <span>(0)</span></label><div class='xr-section-inline-details'></div><div class='xr-section-details'><dl class='xr-attrs'></dl></div></li></ul></div></div>"
      ],
      "text/plain": [
       "<xarray.Dataset>\n",
       "Dimensions:         (date: 77, field_id: 52769, polarization: 3)\n",
       "Coordinates:\n",
       "  * date            (date) datetime64[ns] 2018-07-08 2018-07-14 ... 2019-10-31\n",
       "  * field_id        (field_id) int32 61853445 61952339 ... 67365067 67365062\n",
       "  * polarization    (polarization) object 'VH' 'VV' 'VV-VH'\n",
       "Data variables:\n",
       "    afgkode         (field_id) int16 ...\n",
       "    afgroede        (field_id) object ...\n",
       "    cvr             (field_id) object ...\n",
       "    gb              (field_id) float32 ...\n",
       "    gbanmeldt       (field_id) float32 ...\n",
       "    imk_areal       (field_id) float32 ...\n",
       "    journalnr       (field_id) object ...\n",
       "    marknr          (field_id) object ...\n",
       "    pass_mode       (date) object ...\n",
       "    relative_orbit  (date) int16 ...\n",
       "    satellite       (date) object ...\n",
       "    stats_max       (field_id, date, polarization) float32 ...\n",
       "    stats_mean      (field_id, date, polarization) float32 ...\n",
       "    stats_median    (field_id, date, polarization) float32 ...\n",
       "    stats_min       (field_id, date, polarization) float32 ...\n",
       "    stats_std       (field_id, date, polarization) float32 ..."
      ]
     },
     "execution_count": 3,
     "metadata": {},
     "output_type": "execute_result"
    },
    {
     "name": "stdout",
     "output_type": "stream",
     "text": [
      "time: 543 ms\n"
     ]
    }
   ],
   "source": [
    "netcdf_path = (PROJ_PATH / 'internship'/'FieldPolygons2019_stats').with_suffix('.nc') \n",
    "ds = xr.open_dataset(netcdf_path, engine=\"h5netcdf\")\n",
    "ds  # Remember to close the dataset before the netcdf file can be rewritten in cells above"
   ]
  },
  {
   "cell_type": "code",
   "execution_count": 4,
   "metadata": {},
   "outputs": [
    {
     "name": "stdout",
     "output_type": "stream",
     "text": [
      "time: 82.5 ms\n"
     ]
    }
   ],
   "source": [
    "ds.close()"
   ]
  },
  {
   "cell_type": "code",
   "execution_count": 5,
   "metadata": {},
   "outputs": [
    {
     "name": "stdout",
     "output_type": "stream",
     "text": [
      "time: 17.9 s\n"
     ]
    }
   ],
   "source": [
    "# Convert the xarray dataset to pandas dataframe\n",
    "df = ds.to_dataframe()\n",
    "df = df.reset_index()  # Removes MultiIndex\n",
    "df = df.drop(columns= ['cvr', 'gb', 'gbanmeldt', 'journalnr', 'marknr', 'pass_mode', 'relative_orbit'])\n",
    "df = df.dropna()"
   ]
  },
  {
   "cell_type": "code",
   "execution_count": 6,
   "metadata": {},
   "outputs": [
    {
     "name": "stdout",
     "output_type": "stream",
     "text": [
      "time: 127 ms\n"
     ]
    }
   ],
   "source": [
    "class_names = ['Potato',\n",
    " 'Spring barley',\n",
    " 'Winter barley',\n",
    " 'Spring wheat',\n",
    " 'Winter wheat',\n",
    " 'Winter rye',\n",
    " 'Spring oat',\n",
    " 'Maize',\n",
    " 'Rapeseed',\n",
    " 'Permanent grass',\n",
    " 'Willow',\n",
    " 'Forest']"
   ]
  },
  {
   "cell_type": "code",
   "execution_count": 7,
   "metadata": {},
   "outputs": [
    {
     "name": "stdout",
     "output_type": "stream",
     "text": [
      "time: 68.5 ms\n"
     ]
    }
   ],
   "source": [
    "def get_X_y(satellite_type):\n",
    "    \n",
    "    df_sklearn = get_sklearn_df(polygons_year=2019, \n",
    "                                satellite_dates=slice('2018-01-01', '2019-12-31'), \n",
    "                                fields='all', \n",
    "                                satellite=satellite_type, \n",
    "                                polarization='all',\n",
    "                                crop_type='all',\n",
    "                                netcdf_path=netcdf_path)\n",
    "\n",
    "    df_sklearn_remapped = df_sklearn.copy()\n",
    "    df_sklearn_remapped.insert(3, 'Crop type', '')\n",
    "    df_sklearn_remapped.insert(4, 'Label ID', 0)\n",
    "    mapping_dict = {}\n",
    "    class_names = [] \n",
    "    i = 0\n",
    "    for key, value in mapping_dict_crop_types.items():\n",
    "        df_sklearn_remapped.loc[df_sklearn_remapped['afgroede'] == key, 'Crop type'] = value \n",
    "        if value not in class_names:\n",
    "            class_names.append(value)\n",
    "            mapping_dict[value] = i\n",
    "            i += 1\n",
    "\n",
    "    for key, value in mapping_dict.items():\n",
    "        df_sklearn_remapped.loc[df_sklearn_remapped['Crop type'] == key, 'Label ID'] = value \n",
    "    #print(f\"Crop types: {class_names}\")\n",
    "    \n",
    "    scaler = StandardScaler() \n",
    "    df_sklearn_remapped.iloc[:,5:] = scaler.fit_transform(df_sklearn_remapped.iloc[:,5:])\n",
    "    \n",
    "    # Get values as numpy array\n",
    "    array = df_sklearn_remapped.values\n",
    "\n",
    "    # Define the independent variables as features.\n",
    "    X = np.float32(array[:,5:])  # The features \n",
    "\n",
    "    # Define the target (dependent) variable as labels.\n",
    "    y = np.int8(array[:,4])  # The column 'afgkode'\n",
    "    return X, y, df_sklearn_remapped"
   ]
  },
  {
   "cell_type": "code",
   "execution_count": 8,
   "metadata": {},
   "outputs": [
    {
     "name": "stdout",
     "output_type": "stream",
     "text": [
      "time: 67.8 ms\n"
     ]
    }
   ],
   "source": [
    "def PCA_model(dimensions, data):\n",
    "    pca = PCA(n_components=dimensions)\n",
    "    principalComponents = pca.fit_transform(data)\n",
    "    print('Explained variation per principal component: {}'.format(pca.explained_variance_ratio_))\n",
    "    return principalComponents"
   ]
  },
  {
   "cell_type": "code",
   "execution_count": 9,
   "metadata": {},
   "outputs": [
    {
     "name": "stdout",
     "output_type": "stream",
     "text": [
      "time: 67.9 ms\n"
     ]
    }
   ],
   "source": [
    "def PCA_model_lineplot(dimensions, data):\n",
    "    pca = PCA(n_components=dimensions)\n",
    "    principalComponents = pca.fit_transform(data)\n",
    "    #print('Explained variation per principal component: {}'.format(pca.explained_variance_ratio_))\n",
    "    variance = pca.explained_variance_ratio_ #calculate variance ratios\n",
    "    var=np.cumsum(np.round(pca.explained_variance_ratio_, decimals=3)*100)\n",
    "    #var #cumulative sum of variance explained with [n] features\n",
    "    plt.ylabel('% Variance Explained')\n",
    "    plt.xlabel('# of Features')\n",
    "    plt.title('PCA Analysis')\n",
    "    plt.ylim(30,100.5)\n",
    "    plt.style.context('seaborn-whitegrid')\n",
    "\n",
    "\n",
    "    plt.plot(var)"
   ]
  },
  {
   "cell_type": "code",
   "execution_count": 10,
   "metadata": {},
   "outputs": [
    {
     "name": "stdout",
     "output_type": "stream",
     "text": [
      "time: 75.1 ms\n"
     ]
    }
   ],
   "source": [
    "def LDA_model(dimensions, data, y):\n",
    "    model = LDA(n_components = dimensions)\n",
    "    X_lda = model.fit_transform(data, y)\n",
    "    print('Explained variation per principal component : {}'.format(model.explained_variance_ratio_))\n",
    "    return model, X_lda"
   ]
  },
  {
   "cell_type": "code",
   "execution_count": 11,
   "metadata": {},
   "outputs": [
    {
     "name": "stdout",
     "output_type": "stream",
     "text": [
      "time: 70.2 ms\n"
     ]
    }
   ],
   "source": [
    "def LDA_model_lineplot(dimensions, data, y):\n",
    "    model = LDA(n_components = dimensions)\n",
    "    X_lda = model.fit_transform(data, y)\n",
    "    #print('Explained variation per principal component: {}'.format(model.explained_variance_ratio_))\n",
    "    variance = model.explained_variance_ratio_ #calculate variance ratios\n",
    "    var=np.cumsum(np.round(model.explained_variance_ratio_, decimals=3)*100)\n",
    "    print(list(var))\n",
    "    #var #cumulative sum of variance explained with [n] features\n",
    "    plt.ylabel('% Variance Explained')\n",
    "    plt.xlabel('# of Features')\n",
    "    #plt.xticks(rotation=90, horizontalalignment='center')\n",
    "    plt.title('LDA Analysis')\n",
    "    plt.ylim(30,100.5)\n",
    "    plt.style.context('seaborn-whitegrid')\n",
    "\n",
    "\n",
    "    plt.plot(var)"
   ]
  },
  {
   "cell_type": "code",
   "execution_count": 16,
   "metadata": {},
   "outputs": [
    {
     "name": "stdout",
     "output_type": "stream",
     "text": [
      "time: 70.3 ms\n"
     ]
    }
   ],
   "source": [
    "def LDA_plot_3D(X_lda, df_sklearn_remapped, crops, category):\n",
    "    principalDf = pd.DataFrame(data = X_lda\n",
    "                 , columns = ['LDA component 1', 'LDA component 2', 'LDA component 3'])\n",
    "    finalDf = pd.concat([principalDf, df_sklearn_remapped[['Crop type']]], axis = 1)\n",
    "    finalDf = finalDf.loc[finalDf['Crop type'].isin(crops)]\n",
    "    fig = plt.figure(figsize = (10,10))\n",
    "#     ax = fig.add_subplot(1,1,1) \n",
    "    ax = plt.axes(projection =\"3d\")\n",
    "    ax.set_xlabel('LDA Component 1', fontsize = 15)\n",
    "    ax.set_ylabel('LDA Component 2', fontsize = 15)\n",
    "    ax.set_zlabel('LDA Component 3', fontsize = 15)\n",
    "#     ax.set_title(title, fontsize = 20)\n",
    "    #targets = class_names\n",
    "    targets = crops\n",
    "    colors = ['r', 'g', 'bisque', 'c', 'm', 'y', 'k', 'sienna', 'blue', 'orange', 'brown', 'pink']\n",
    "    for target, color in zip(targets,colors):\n",
    "        indicesToKeep = finalDf['Crop type'] == target\n",
    "        ax.scatter3D(finalDf.loc[indicesToKeep, 'LDA component 1']\n",
    "                   , finalDf.loc[indicesToKeep, 'LDA component 2']\n",
    "                   , finalDf.loc[indicesToKeep, 'LDA component 3']\n",
    "                   , c = color\n",
    "                   , s = 50)\n",
    "    ax.legend(targets)\n",
    "    ax.grid()\n",
    "    #plt.savefig('/Users/MyFolders/Aarhus/Figures/LDA_3D_' + category + '.png')"
   ]
  },
  {
   "cell_type": "code",
   "execution_count": 19,
   "metadata": {},
   "outputs": [
    {
     "name": "stdout",
     "output_type": "stream",
     "text": [
      "time: 40.8 s\n"
     ]
    }
   ],
   "source": [
    "X, y, df_sklearn_remapped = get_X_y(\"S1A\")"
   ]
  },
  {
   "cell_type": "code",
   "execution_count": 20,
   "metadata": {},
   "outputs": [
    {
     "name": "stdout",
     "output_type": "stream",
     "text": [
      "time: 131 ms\n"
     ]
    }
   ],
   "source": [
    "feature_names = df_sklearn_remapped.columns[5:]"
   ]
  },
  {
   "cell_type": "code",
   "execution_count": 21,
   "metadata": {},
   "outputs": [
    {
     "data": {
      "text/plain": [
       "Index(['2018-07-14_VV', '2018-07-26_VV', '2018-08-07_VV', '2018-08-19_VV',\n",
       "       '2018-08-31_VV', '2018-09-12_VV', '2018-09-24_VV', '2018-10-06_VV',\n",
       "       '2018-10-18_VV', '2018-10-30_VV',\n",
       "       ...\n",
       "       '2019-07-09_VV-VH', '2019-07-21_VV-VH', '2019-08-02_VV-VH',\n",
       "       '2019-08-14_VV-VH', '2019-08-26_VV-VH', '2019-09-07_VV-VH',\n",
       "       '2019-09-19_VV-VH', '2019-10-01_VV-VH', '2019-10-13_VV-VH',\n",
       "       '2019-10-25_VV-VH'],\n",
       "      dtype='object', length=114)"
      ]
     },
     "execution_count": 21,
     "metadata": {},
     "output_type": "execute_result"
    },
    {
     "name": "stdout",
     "output_type": "stream",
     "text": [
      "time: 84.9 ms\n"
     ]
    }
   ],
   "source": [
    "feature_names"
   ]
  },
  {
   "cell_type": "code",
   "execution_count": 22,
   "metadata": {},
   "outputs": [
    {
     "name": "stdout",
     "output_type": "stream",
     "text": [
      "time: 74.9 ms\n"
     ]
    }
   ],
   "source": [
    "result = np.where((y == 0) | (y == 3) | (y == 4) | (y == 8) |(y == 11))\n",
    "req_indices = result[0]\n",
    "req_indices = list(req_indices)"
   ]
  },
  {
   "cell_type": "code",
   "execution_count": 23,
   "metadata": {},
   "outputs": [
    {
     "name": "stdout",
     "output_type": "stream",
     "text": [
      "time: 96.9 ms\n"
     ]
    }
   ],
   "source": [
    "X_req = X[req_indices] \n",
    "y_req = y[req_indices]"
   ]
  },
  {
   "cell_type": "code",
   "execution_count": 24,
   "metadata": {},
   "outputs": [
    {
     "data": {
      "text/plain": [
       "array([ 0,  3,  4,  8, 11], dtype=int8)"
      ]
     },
     "execution_count": 24,
     "metadata": {},
     "output_type": "execute_result"
    },
    {
     "name": "stdout",
     "output_type": "stream",
     "text": [
      "time: 80.3 ms\n"
     ]
    }
   ],
   "source": [
    "np.unique(y_req)"
   ]
  },
  {
   "cell_type": "code",
   "execution_count": 25,
   "metadata": {},
   "outputs": [
    {
     "name": "stdout",
     "output_type": "stream",
     "text": [
      "time: 134 ms\n"
     ]
    }
   ],
   "source": [
    "scaler = StandardScaler()\n",
    "X1 = scaler.fit_transform(X_req)"
   ]
  },
  {
   "cell_type": "code",
   "execution_count": 26,
   "metadata": {},
   "outputs": [
    {
     "name": "stdout",
     "output_type": "stream",
     "text": [
      "time: 88.1 ms\n"
     ]
    }
   ],
   "source": [
    "mapping = {\n",
    "    0: 'Potato',\n",
    "    1: 'Spring barley',\n",
    "    2: 'Winter barley',\n",
    "    3: 'Spring wheat',\n",
    "    4: 'Winter wheat',\n",
    "    5: 'Winter rye',\n",
    "    6: 'Spring oat',\n",
    "    7: 'Maize',\n",
    "    8: 'Rapeseed',\n",
    "    9: 'Permanent grass',\n",
    "    10: 'Willow',\n",
    "    11: 'Forest'\n",
    "}"
   ]
  },
  {
   "cell_type": "code",
   "execution_count": 27,
   "metadata": {},
   "outputs": [
    {
     "name": "stdout",
     "output_type": "stream",
     "text": [
      "time: 74.3 ms\n"
     ]
    }
   ],
   "source": [
    "def explained_df(clf, feature_names):\n",
    "    \n",
    "    df_explanation = eli5.formatters.as_dataframe.explain_weights_df(clf, feature_names=list(feature_names), target_names=class_names)\n",
    "    df_explanation = df_explanation.sort_values(by=['feature', 'target'])\n",
    "    df_explanation['polarization'] = ''\n",
    "    features = df_explanation['feature'].unique()\n",
    "    features = features[:-1]  # The last features are the bias values\n",
    "    df_bias_values = df_explanation[df_explanation['feature'] == '<BIAS>']\n",
    "\n",
    "    df_explanation = df_explanation[df_explanation['feature'] != '<BIAS>']\n",
    "    for feature in features:\n",
    "        if feature[-5:] == 'VV-VH':\n",
    "            df_explanation.loc[df_explanation['feature'] == feature, 'polarization'] = 'VV-VH'\n",
    "            df_explanation = df_explanation.replace(feature, feature[:-6])\n",
    "        elif feature[-2:] == 'VV':\n",
    "            df_explanation.loc[df_explanation['feature'] == feature, 'polarization'] = 'VV'\n",
    "            df_explanation = df_explanation.replace(feature, feature[:-3])\n",
    "        else:\n",
    "            df_explanation.loc[df_explanation['feature'] == feature, 'polarization'] = 'VH'\n",
    "            df_explanation = df_explanation.replace(feature, feature[:-3])\n",
    "            \n",
    "    return df_explanation"
   ]
  },
  {
   "cell_type": "code",
   "execution_count": 28,
   "metadata": {},
   "outputs": [
    {
     "name": "stdout",
     "output_type": "stream",
     "text": [
      "time: 83.8 ms\n"
     ]
    }
   ],
   "source": [
    "def plot_VV_VH(df_explanation, crop_type):\n",
    "    data = df_explanation[df_explanation['target'] == crop_type]\n",
    "    #data = data.loc[data['polarization'].isin(['VV', 'VH'])]\n",
    "    #data = data.loc[data['target'].isin(['Forest', 'Rapeseed'])]\n",
    "    plt.figure(figsize=(24, 8))\n",
    "    plt.xticks(rotation=90, horizontalalignment='center')\n",
    "    sns.set_context(\"talk\")\n",
    "    ax = sns.lineplot(x='feature', y='weight', hue='polarization', data=data, ci='sd').set_title(crop_type)"
   ]
  },
  {
   "cell_type": "code",
   "execution_count": 29,
   "metadata": {},
   "outputs": [
    {
     "name": "stdout",
     "output_type": "stream",
     "text": [
      "[53.1, 88.8, 96.39999999999999, 99.89999999999999]\n"
     ]
    },
    {
     "data": {
      "image/png": "[encoded data removed]",
      "text/plain": [
       "<Figure size 432x288 with 1 Axes>"
      ]
     },
     "metadata": {},
     "output_type": "display_data"
    },
    {
     "name": "stdout",
     "output_type": "stream",
     "text": [
      "time: 763 ms\n"
     ]
    }
   ],
   "source": [
    "X_lda = LDA_model_lineplot(None, X1, y_req)"
   ]
  },
  {
   "cell_type": "code",
   "execution_count": 30,
   "metadata": {},
   "outputs": [
    {
     "name": "stdout",
     "output_type": "stream",
     "text": [
      "Explained variation per principal component : [0.53119097 0.3571063  0.07627817 0.03542455]\n",
      "time: 541 ms\n"
     ]
    }
   ],
   "source": [
    "model_lda, X_lda_4D = LDA_model(None, X1, y_req)"
   ]
  },
  {
   "cell_type": "code",
   "execution_count": 31,
   "metadata": {},
   "outputs": [
    {
     "data": {
      "text/plain": [
       "(17861, 4)"
      ]
     },
     "execution_count": 31,
     "metadata": {},
     "output_type": "execute_result"
    },
    {
     "name": "stdout",
     "output_type": "stream",
     "text": [
      "time: 97.7 ms\n"
     ]
    }
   ],
   "source": [
    "X_lda_4D.shape"
   ]
  },
  {
   "cell_type": "code",
   "execution_count": 35,
   "metadata": {},
   "outputs": [
    {
     "name": "stdout",
     "output_type": "stream",
     "text": [
      "time: 101 ms\n"
     ]
    }
   ],
   "source": [
    "X_train, X_test, y_train, y_test = train_test_split(X_lda_4D, y_req, test_size=0.3, random_state=RANDOM_SEED)"
   ]
  },
  {
   "cell_type": "code",
   "execution_count": 36,
   "metadata": {},
   "outputs": [
    {
     "name": "stdout",
     "output_type": "stream",
     "text": [
      "time: 78.1 ms\n"
     ]
    }
   ],
   "source": [
    "from keras.utils import to_categorical\n",
    "num_classes = 12\n",
    "feature_vector_length = X_train.shape[1]\n",
    "y_train_encoded = to_categorical(y_train, num_classes)\n",
    "y_test_encoded = to_categorical(y_test, num_classes)"
   ]
  },
  {
   "cell_type": "code",
   "execution_count": 37,
   "metadata": {},
   "outputs": [
    {
     "name": "stdout",
     "output_type": "stream",
     "text": [
      "Feature shape: (4,)\n",
      "time: 377 ms\n"
     ]
    }
   ],
   "source": [
    "import keras\n",
    "from keras.datasets import mnist\n",
    "from keras.models import Sequential\n",
    "from keras.layers import Dense\n",
    "from keras.utils import to_categorical\n",
    "# Set the input shape\n",
    "input_shape = (feature_vector_length,)\n",
    "print(f'Feature shape: {input_shape}')\n",
    "\n",
    "# Create the model\n",
    "model = Sequential()\n",
    "model.add(Dense(3, input_shape=input_shape, activation='relu'))\n",
    "# model.add(Dense(30, activation='relu'))\n",
    "model.add(Dense(num_classes, activation='softmax'))"
   ]
  },
  {
   "cell_type": "code",
   "execution_count": 38,
   "metadata": {},
   "outputs": [
    {
     "name": "stdout",
     "output_type": "stream",
     "text": [
      "Epoch 1/20\n",
      "12502/12502 [==============================] - 1s 61us/step - loss: 1.9473 - acc: 0.6291\n",
      "Epoch 2/20\n",
      "12502/12502 [==============================] - 1s 44us/step - loss: 1.0355 - acc: 0.8737\n",
      "Epoch 3/20\n",
      "12502/12502 [==============================] - 1s 43us/step - loss: 0.7433 - acc: 0.9297\n",
      "Epoch 4/20\n",
      "12502/12502 [==============================] - 1s 43us/step - loss: 0.5474 - acc: 0.9514\n",
      "Epoch 5/20\n",
      "12502/12502 [==============================] - 1s 41us/step - loss: 0.4182 - acc: 0.9578\n",
      "Epoch 6/20\n",
      "12502/12502 [==============================] - 1s 45us/step - loss: 0.3344 - acc: 0.9591\n",
      "Epoch 7/20\n",
      "12502/12502 [==============================] - 1s 43us/step - loss: 0.2799 - acc: 0.9597\n",
      "Epoch 8/20\n",
      "12502/12502 [==============================] - 1s 43us/step - loss: 0.2436 - acc: 0.9606\n",
      "Epoch 9/20\n",
      "12502/12502 [==============================] - 1s 43us/step - loss: 0.2190 - acc: 0.9601\n",
      "Epoch 10/20\n",
      "12502/12502 [==============================] - 1s 43us/step - loss: 0.2018 - acc: 0.9606\n",
      "Epoch 11/20\n",
      "12502/12502 [==============================] - 1s 43us/step - loss: 0.1895 - acc: 0.9599\n",
      "Epoch 12/20\n",
      "12502/12502 [==============================] - 1s 43us/step - loss: 0.1803 - acc: 0.9602\n",
      "Epoch 13/20\n",
      "12502/12502 [==============================] - 1s 44us/step - loss: 0.1735 - acc: 0.9601\n",
      "Epoch 14/20\n",
      "12502/12502 [==============================] - 1s 43us/step - loss: 0.1683 - acc: 0.9600\n",
      "Epoch 15/20\n",
      "12502/12502 [==============================] - 1s 44us/step - loss: 0.1641 - acc: 0.9604\n",
      "Epoch 16/20\n",
      "12502/12502 [==============================] - 1s 42us/step - loss: 0.1611 - acc: 0.9604\n",
      "Epoch 17/20\n",
      "12502/12502 [==============================] - 1s 44us/step - loss: 0.1586 - acc: 0.9602\n",
      "Epoch 18/20\n",
      "12502/12502 [==============================] - 1s 43us/step - loss: 0.1565 - acc: 0.9605\n",
      "Epoch 19/20\n",
      "12502/12502 [==============================] - 1s 56us/step - loss: 0.1547 - acc: 0.9609\n",
      "Epoch 20/20\n",
      "12502/12502 [==============================] - 1s 45us/step - loss: 0.1534 - acc: 0.9600\n"
     ]
    },
    {
     "data": {
      "text/plain": [
       "<keras.callbacks.History at 0x1a41ef5780>"
      ]
     },
     "execution_count": 38,
     "metadata": {},
     "output_type": "execute_result"
    },
    {
     "name": "stdout",
     "output_type": "stream",
     "text": [
      "time: 11.6 s\n"
     ]
    }
   ],
   "source": [
    "model.compile(loss='categorical_crossentropy', optimizer='adam', metrics=['accuracy'])\n",
    "model.fit(X_train, y_train_encoded, epochs=20)"
   ]
  },
  {
   "cell_type": "code",
   "execution_count": 39,
   "metadata": {},
   "outputs": [
    {
     "name": "stdout",
     "output_type": "stream",
     "text": [
      "12502/12502 [==============================] - 0s 19us/step\n",
      "Train results - Loss: 0.15217010320452257 - Accuracy: 0.9609662454007358%\n",
      "time: 340 ms\n"
     ]
    }
   ],
   "source": [
    "train_results = model.evaluate(X_train, y_train_encoded, verbose=1)\n",
    "print(f'Train results - Loss: {train_results[0]} - Accuracy: {train_results[1]}%')"
   ]
  },
  {
   "cell_type": "code",
   "execution_count": 40,
   "metadata": {},
   "outputs": [
    {
     "name": "stdout",
     "output_type": "stream",
     "text": [
      "5359/5359 [==============================] - 0s 22us/step\n",
      "Test results - Loss: 0.1568065571485226 - Accuracy: 0.9619331964918828%\n",
      "time: 198 ms\n"
     ]
    }
   ],
   "source": [
    "test_results = model.evaluate(X_test, y_test_encoded, verbose=1)\n",
    "print(f'Test results - Loss: {test_results[0]} - Accuracy: {test_results[1]}%')"
   ]
  },
  {
   "cell_type": "code",
   "execution_count": 55,
   "metadata": {},
   "outputs": [
    {
     "data": {
      "text/plain": [
       "(5359, 4)"
      ]
     },
     "execution_count": 55,
     "metadata": {},
     "output_type": "execute_result"
    },
    {
     "name": "stdout",
     "output_type": "stream",
     "text": [
      "time: 2.76 s\n"
     ]
    }
   ],
   "source": [
    "empty_array = np.empty((0, 4), int)\n",
    "model_wo_sm = iutils.keras.graph.model_wo_softmax(model)\n",
    "analyzer = innvestigate.create_analyzer(\"lrp.z\", model_wo_sm)\n",
    "for i in range(X_test.shape[0]):\n",
    "    analysis = analyzer.analyze(X_test[i].reshape(1,4))\n",
    "    empty_array = np.append(empty_array, analysis, axis=0)\n",
    "\n",
    "empty_array.shape"
   ]
  },
  {
   "cell_type": "code",
   "execution_count": 56,
   "metadata": {},
   "outputs": [
    {
     "name": "stdout",
     "output_type": "stream",
     "text": [
      "time: 75.3 ms\n"
     ]
    }
   ],
   "source": [
    "mapping = {\n",
    "0: 'Potato',\n",
    "1: 'Spring barley',\n",
    "2: 'Winter barley',\n",
    "3: 'Spring wheat',\n",
    "4: 'Winter wheat',\n",
    "5: 'Winter rye',\n",
    "6: 'Spring oat',\n",
    "7: 'Maize',\n",
    "8: 'Rapeseed',\n",
    "9: 'Permanent grass',\n",
    "10: 'Willow',\n",
    "11: 'Forest'\n",
    "}\n",
    "\n",
    "crop_tonumber = {\n",
    "    'Potato': 0,\n",
    "    'Spring barley': 1,\n",
    "    'Winter barley': 2,\n",
    "    'Spring wheat': 3,\n",
    "    'Winter wheat': 4,\n",
    "    'Winter rye': 5,\n",
    "    'Spring oat': 6,\n",
    "    'Maize': 7,\n",
    "    'Rapeseed': 8,\n",
    "    'Permanent grass': 9,\n",
    "    'Willow': 10,\n",
    "    'Forest': 11\n",
    "}"
   ]
  },
  {
   "cell_type": "code",
   "execution_count": 57,
   "metadata": {},
   "outputs": [
    {
     "name": "stdout",
     "output_type": "stream",
     "text": [
      "time: 93.4 ms\n"
     ]
    }
   ],
   "source": [
    "def LDA_Sense(croptype):\n",
    "    df_explanation = pd.DataFrame(data = empty_array, columns = ['x0', 'x1', 'x2', 'x3'])\n",
    "    crop_number = crop_tonumber[croptype]\n",
    "    result = np.where((y_test == crop_number))\n",
    "    req_indices = result[0]\n",
    "    req_indices = list(req_indices)\n",
    "    df_explanation = df_explanation.iloc[req_indices]\n",
    "    averaged_explanation = df_explanation.mean(axis=0).to_frame().reset_index()\n",
    "    averaged_explanation.rename(columns={\"index\": \"feature\", 0: \"weight\"}, inplace = True)\n",
    "    averaged_explanation.sort_values(by = \"weight\", inplace = True, ascending = False)\n",
    "    display(averaged_explanation)\n",
    "# averaged_explanation = pd.DataFrame(averaged_explanation, columns = [\"FI\"])\n",
    "# averaged_explanation.sort_values(by = \"index\")"
   ]
  },
  {
   "cell_type": "code",
   "execution_count": 58,
   "metadata": {},
   "outputs": [
    {
     "data": {
      "text/html": [
       "<div>\n",
       "<style scoped>\n",
       "    .dataframe tbody tr th:only-of-type {\n",
       "        vertical-align: middle;\n",
       "    }\n",
       "\n",
       "    .dataframe tbody tr th {\n",
       "        vertical-align: top;\n",
       "    }\n",
       "\n",
       "    .dataframe thead th {\n",
       "        text-align: right;\n",
       "    }\n",
       "</style>\n",
       "<table border=\"1\" class=\"dataframe\">\n",
       "  <thead>\n",
       "    <tr style=\"text-align: right;\">\n",
       "      <th></th>\n",
       "      <th>feature</th>\n",
       "      <th>weight</th>\n",
       "    </tr>\n",
       "  </thead>\n",
       "  <tbody>\n",
       "    <tr>\n",
       "      <th>1</th>\n",
       "      <td>x1</td>\n",
       "      <td>0.038334</td>\n",
       "    </tr>\n",
       "    <tr>\n",
       "      <th>0</th>\n",
       "      <td>x0</td>\n",
       "      <td>0.033481</td>\n",
       "    </tr>\n",
       "    <tr>\n",
       "      <th>3</th>\n",
       "      <td>x3</td>\n",
       "      <td>0.017596</td>\n",
       "    </tr>\n",
       "    <tr>\n",
       "      <th>2</th>\n",
       "      <td>x2</td>\n",
       "      <td>-0.037659</td>\n",
       "    </tr>\n",
       "  </tbody>\n",
       "</table>\n",
       "</div>"
      ],
      "text/plain": [
       "  feature    weight\n",
       "1      x1  0.038334\n",
       "0      x0  0.033481\n",
       "3      x3  0.017596\n",
       "2      x2 -0.037659"
      ]
     },
     "metadata": {},
     "output_type": "display_data"
    },
    {
     "name": "stdout",
     "output_type": "stream",
     "text": [
      "time: 95.3 ms\n"
     ]
    }
   ],
   "source": [
    "LDA_Sense(\"Potato\")"
   ]
  },
  {
   "cell_type": "code",
   "execution_count": 59,
   "metadata": {},
   "outputs": [
    {
     "data": {
      "text/html": [
       "<div>\n",
       "<style scoped>\n",
       "    .dataframe tbody tr th:only-of-type {\n",
       "        vertical-align: middle;\n",
       "    }\n",
       "\n",
       "    .dataframe tbody tr th {\n",
       "        vertical-align: top;\n",
       "    }\n",
       "\n",
       "    .dataframe thead th {\n",
       "        text-align: right;\n",
       "    }\n",
       "</style>\n",
       "<table border=\"1\" class=\"dataframe\">\n",
       "  <thead>\n",
       "    <tr style=\"text-align: right;\">\n",
       "      <th></th>\n",
       "      <th>feature</th>\n",
       "      <th>weight</th>\n",
       "    </tr>\n",
       "  </thead>\n",
       "  <tbody>\n",
       "    <tr>\n",
       "      <th>3</th>\n",
       "      <td>x3</td>\n",
       "      <td>2.375274</td>\n",
       "    </tr>\n",
       "    <tr>\n",
       "      <th>1</th>\n",
       "      <td>x1</td>\n",
       "      <td>2.338071</td>\n",
       "    </tr>\n",
       "    <tr>\n",
       "      <th>2</th>\n",
       "      <td>x2</td>\n",
       "      <td>-0.140898</td>\n",
       "    </tr>\n",
       "    <tr>\n",
       "      <th>0</th>\n",
       "      <td>x0</td>\n",
       "      <td>-0.359853</td>\n",
       "    </tr>\n",
       "  </tbody>\n",
       "</table>\n",
       "</div>"
      ],
      "text/plain": [
       "  feature    weight\n",
       "3      x3  2.375274\n",
       "1      x1  2.338071\n",
       "2      x2 -0.140898\n",
       "0      x0 -0.359853"
      ]
     },
     "metadata": {},
     "output_type": "display_data"
    },
    {
     "name": "stdout",
     "output_type": "stream",
     "text": [
      "time: 96.6 ms\n"
     ]
    }
   ],
   "source": [
    "LDA_Sense(\"Spring wheat\")"
   ]
  },
  {
   "cell_type": "code",
   "execution_count": 60,
   "metadata": {},
   "outputs": [
    {
     "data": {
      "text/html": [
       "<div>\n",
       "<style scoped>\n",
       "    .dataframe tbody tr th:only-of-type {\n",
       "        vertical-align: middle;\n",
       "    }\n",
       "\n",
       "    .dataframe tbody tr th {\n",
       "        vertical-align: top;\n",
       "    }\n",
       "\n",
       "    .dataframe thead th {\n",
       "        text-align: right;\n",
       "    }\n",
       "</style>\n",
       "<table border=\"1\" class=\"dataframe\">\n",
       "  <thead>\n",
       "    <tr style=\"text-align: right;\">\n",
       "      <th></th>\n",
       "      <th>feature</th>\n",
       "      <th>weight</th>\n",
       "    </tr>\n",
       "  </thead>\n",
       "  <tbody>\n",
       "    <tr>\n",
       "      <th>1</th>\n",
       "      <td>x1</td>\n",
       "      <td>7.252565</td>\n",
       "    </tr>\n",
       "    <tr>\n",
       "      <th>0</th>\n",
       "      <td>x0</td>\n",
       "      <td>0.040495</td>\n",
       "    </tr>\n",
       "    <tr>\n",
       "      <th>2</th>\n",
       "      <td>x2</td>\n",
       "      <td>-0.112839</td>\n",
       "    </tr>\n",
       "    <tr>\n",
       "      <th>3</th>\n",
       "      <td>x3</td>\n",
       "      <td>-0.144461</td>\n",
       "    </tr>\n",
       "  </tbody>\n",
       "</table>\n",
       "</div>"
      ],
      "text/plain": [
       "  feature    weight\n",
       "1      x1  7.252565\n",
       "0      x0  0.040495\n",
       "2      x2 -0.112839\n",
       "3      x3 -0.144461"
      ]
     },
     "metadata": {},
     "output_type": "display_data"
    },
    {
     "name": "stdout",
     "output_type": "stream",
     "text": [
      "time: 98.9 ms\n"
     ]
    }
   ],
   "source": [
    "LDA_Sense(\"Winter wheat\")"
   ]
  },
  {
   "cell_type": "code",
   "execution_count": 61,
   "metadata": {},
   "outputs": [
    {
     "data": {
      "text/html": [
       "<div>\n",
       "<style scoped>\n",
       "    .dataframe tbody tr th:only-of-type {\n",
       "        vertical-align: middle;\n",
       "    }\n",
       "\n",
       "    .dataframe tbody tr th {\n",
       "        vertical-align: top;\n",
       "    }\n",
       "\n",
       "    .dataframe thead th {\n",
       "        text-align: right;\n",
       "    }\n",
       "</style>\n",
       "<table border=\"1\" class=\"dataframe\">\n",
       "  <thead>\n",
       "    <tr style=\"text-align: right;\">\n",
       "      <th></th>\n",
       "      <th>feature</th>\n",
       "      <th>weight</th>\n",
       "    </tr>\n",
       "  </thead>\n",
       "  <tbody>\n",
       "    <tr>\n",
       "      <th>0</th>\n",
       "      <td>x0</td>\n",
       "      <td>9.592386</td>\n",
       "    </tr>\n",
       "    <tr>\n",
       "      <th>1</th>\n",
       "      <td>x1</td>\n",
       "      <td>0.309969</td>\n",
       "    </tr>\n",
       "    <tr>\n",
       "      <th>3</th>\n",
       "      <td>x3</td>\n",
       "      <td>-0.015908</td>\n",
       "    </tr>\n",
       "    <tr>\n",
       "      <th>2</th>\n",
       "      <td>x2</td>\n",
       "      <td>-0.120414</td>\n",
       "    </tr>\n",
       "  </tbody>\n",
       "</table>\n",
       "</div>"
      ],
      "text/plain": [
       "  feature    weight\n",
       "0      x0  9.592386\n",
       "1      x1  0.309969\n",
       "3      x3 -0.015908\n",
       "2      x2 -0.120414"
      ]
     },
     "metadata": {},
     "output_type": "display_data"
    },
    {
     "name": "stdout",
     "output_type": "stream",
     "text": [
      "time: 100 ms\n"
     ]
    }
   ],
   "source": [
    "LDA_Sense(\"Rapeseed\")"
   ]
  },
  {
   "cell_type": "code",
   "execution_count": 62,
   "metadata": {},
   "outputs": [
    {
     "data": {
      "text/html": [
       "<div>\n",
       "<style scoped>\n",
       "    .dataframe tbody tr th:only-of-type {\n",
       "        vertical-align: middle;\n",
       "    }\n",
       "\n",
       "    .dataframe tbody tr th {\n",
       "        vertical-align: top;\n",
       "    }\n",
       "\n",
       "    .dataframe thead th {\n",
       "        text-align: right;\n",
       "    }\n",
       "</style>\n",
       "<table border=\"1\" class=\"dataframe\">\n",
       "  <thead>\n",
       "    <tr style=\"text-align: right;\">\n",
       "      <th></th>\n",
       "      <th>feature</th>\n",
       "      <th>weight</th>\n",
       "    </tr>\n",
       "  </thead>\n",
       "  <tbody>\n",
       "    <tr>\n",
       "      <th>2</th>\n",
       "      <td>x2</td>\n",
       "      <td>5.936158</td>\n",
       "    </tr>\n",
       "    <tr>\n",
       "      <th>0</th>\n",
       "      <td>x0</td>\n",
       "      <td>1.100758</td>\n",
       "    </tr>\n",
       "    <tr>\n",
       "      <th>1</th>\n",
       "      <td>x1</td>\n",
       "      <td>0.060772</td>\n",
       "    </tr>\n",
       "    <tr>\n",
       "      <th>3</th>\n",
       "      <td>x3</td>\n",
       "      <td>0.007644</td>\n",
       "    </tr>\n",
       "  </tbody>\n",
       "</table>\n",
       "</div>"
      ],
      "text/plain": [
       "  feature    weight\n",
       "2      x2  5.936158\n",
       "0      x0  1.100758\n",
       "1      x1  0.060772\n",
       "3      x3  0.007644"
      ]
     },
     "metadata": {},
     "output_type": "display_data"
    },
    {
     "name": "stdout",
     "output_type": "stream",
     "text": [
      "time: 131 ms\n"
     ]
    }
   ],
   "source": [
    "LDA_Sense(\"Forest\")"
   ]
  }
 ],
 "metadata": {
  "kernelspec": {
   "display_name": "Python 3",
   "language": "python",
   "name": "python3"
  },
  "language_info": {
   "codemirror_mode": {
    "name": "ipython",
    "version": 3
   },
   "file_extension": ".py",
   "mimetype": "text/x-python",
   "name": "python",
   "nbconvert_exporter": "python",
   "pygments_lexer": "ipython3",
   "version": "3.6.10"
  }
 },
 "nbformat": 4,
 "nbformat_minor": 4
}
